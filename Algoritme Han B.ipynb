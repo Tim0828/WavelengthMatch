{
 "cells": [
  {
   "cell_type": "code",
   "execution_count": 21,
   "metadata": {},
   "outputs": [],
   "source": [
    "# libraries\n",
    "import numpy as np\n",
    "from matplotlib import pyplot as plt"
   ]
  },
  {
   "cell_type": "code",
   "execution_count": null,
   "metadata": {},
   "outputs": [
    {
     "name": "stdout",
     "output_type": "stream",
     "text": [
      "19\n"
     ]
    }
   ],
   "source": [
    "# test data \n",
    "# wavelength database:\n",
    "# dictionary of wavelengths and their corresponding intensities\n",
    "# why all these zero intensities? And why do we do nothing with the intensities?\n",
    "NEON_WAVELN = {\n",
    "    532.640 : 20,\n",
    "    533.078 : 60,\n",
    "    533.331 : 0,\n",
    "    533.571 : 0, \n",
    "    534.109 : 100,\n",
    "    534.328 : 60,\n",
    "    534.920 : 0,\n",
    "    535.516 : 0,\n",
    "    535.542 : 0,\n",
    "    535.802 : 0,\n",
    "    536.001 : 0,\n",
    "    536.042 : 0,\n",
    "    536.223 : 0,\n",
    "    537.231 : 0,\n",
    "    537.498 : 0,\n",
    "    538.325 : 0,\n",
    "    540.056 : 200,\n",
    "    541.265 : 0,\n",
    "    541.856 : 0,\n",
    "}\n",
    "\n",
    "# spectral fit output:\n",
    "# array of wavelengths of spectral lines in pixels\n",
    "spectral_lines = np.array([\n",
    "    22.181795919847822,\n",
    "    41.140395614525275,\n",
    "    144.26273501671918,\n",
    "    186.4979599536216,\n",
    "    292.1601184580567,\n",
    "    335.21179409990134,\n",
    "    377.61005873042376,\n",
    "    414.14821455025987,\n",
    "    445.4639986187941,\n",
    "])\n",
    "print(len(NEON_WAVELN))"
   ]
  },
  {
   "cell_type": "code",
   "execution_count": 43,
   "metadata": {},
   "outputs": [
    {
     "ename": "TypeError",
     "evalue": "unhashable type: 'slice'",
     "output_type": "error",
     "traceback": [
      "\u001b[1;31m---------------------------------------------------------------------------\u001b[0m",
      "\u001b[1;31mTypeError\u001b[0m                                 Traceback (most recent call last)",
      "\u001b[1;32m<ipython-input-43-4dcb2d4a79fa>\u001b[0m in \u001b[0;36m<module>\u001b[1;34m\u001b[0m\n\u001b[0;32m     15\u001b[0m \u001b[1;33m\u001b[0m\u001b[0m\n\u001b[0;32m     16\u001b[0m \u001b[1;32mfor\u001b[0m \u001b[0mi\u001b[0m \u001b[1;32min\u001b[0m \u001b[0mrange\u001b[0m\u001b[1;33m(\u001b[0m\u001b[0mlen\u001b[0m\u001b[1;33m(\u001b[0m\u001b[0mspectral_lines\u001b[0m\u001b[1;33m)\u001b[0m\u001b[1;33m)\u001b[0m\u001b[1;33m:\u001b[0m\u001b[1;33m\u001b[0m\u001b[1;33m\u001b[0m\u001b[0m\n\u001b[1;32m---> 17\u001b[1;33m     \u001b[0mplt\u001b[0m\u001b[1;33m.\u001b[0m\u001b[0mscatter\u001b[0m\u001b[1;33m(\u001b[0m\u001b[0mspectral_lines\u001b[0m\u001b[1;33m,\u001b[0m \u001b[0mNEON_WAVELN\u001b[0m\u001b[1;33m[\u001b[0m\u001b[1;36m0\u001b[0m\u001b[1;33m+\u001b[0m\u001b[0mi\u001b[0m\u001b[1;33m:\u001b[0m\u001b[0mlen\u001b[0m\u001b[1;33m(\u001b[0m\u001b[0mspectral_lines\u001b[0m\u001b[1;33m)\u001b[0m\u001b[1;33m+\u001b[0m\u001b[0mi\u001b[0m\u001b[1;33m]\u001b[0m\u001b[1;33m,\u001b[0m \u001b[0mcolor\u001b[0m\u001b[1;33m=\u001b[0m\u001b[1;34m'r'\u001b[0m\u001b[1;33m)\u001b[0m\u001b[1;33m\u001b[0m\u001b[1;33m\u001b[0m\u001b[0m\n\u001b[0m",
      "\u001b[1;31mTypeError\u001b[0m: unhashable type: 'slice'"
     ]
    },
    {
     "data": {
      "image/png": "[encoded data removed]",
      "text/plain": [
       "<Figure size 720x720 with 3 Axes>"
      ]
     },
     "metadata": {
      "needs_background": "light"
     },
     "output_type": "display_data"
    }
   ],
   "source": [
    "# visualizing the data\n",
    "fig, ax = plt.subplots(figsize=(10, 10), nrows=3, ncols=1)\n",
    "\n",
    "ax[0].bar(NEON_WAVELN.keys(), NEON_WAVELN.values(), color='blue', label='NEON')\n",
    "ax[0].set_title('NEON Spectrum')\n",
    "ax[0].set_xlabel('Wavelength (nm)')\n",
    "ax[0].set_ylabel('Intensity')\n",
    "ax[0].legend()\n",
    "\n",
    "ax[1].scatter(spectral_lines, np.zeros(len(spectral_lines)), color='red', label='Spectral Lines')\n",
    "ax[1].set_title('Spectral Lines')\n",
    "ax[1].set_xlabel('Wavelength (nm)')\n",
    "ax[1].set_ylabel('Intensity')\n",
    "ax[1].legend()\n",
    "\n",
    "for i in range(len(spectral_lines)):\n",
    "    plt.scatter(spectral_lines, NEON_WAVELN[0+i:len(spectral_lines)+i], color='r')"
   ]
  },
  {
   "cell_type": "code",
   "execution_count": null,
   "metadata": {},
   "outputs": [],
   "source": [
    "def get_dispersion_hint():\n",
    "    wavelength = 532 # nm (wavelength of the laser?)\n",
    "    focal_length = 1000 # mm\n",
    "    groove_density = 1800 # gr/mm\n",
    "    d = 1 / groove_density # mm --> why not used??\n",
    "    m = 1 # diffraction_order --> one, so left out\n",
    "    \n",
    "    blaze_angle = 28.6 # deg\n",
    "    # Littrow configuration\n",
    "\n",
    "    linear_disp = wavelength / (2 * focal_length * np.tan(blaze_angle / 180 * np.pi)) # nm/mm--> focal length in mm, rest in nm??\n",
    "    \n",
    "    # pixel_size = 16 # um --> hmm.. should be nm??\n",
    "    pixel_size = 16000 #nm \n",
    "    fiber_optic_taper = 1.48 # units?\n",
    "    ccd_size = 512 # pixels\n",
    "    \n",
    "    # conversion to nm/pixel\n",
    "    dispersion_hint = linear_disp * pixel_size * fiber_optic_taper / 1000 # nm/pixel\n",
    "    spectral_range = dispersion_hint * ccd_size # nm  --> you would want this to be larger than the spectral range of the NEON spectrum\n",
    "    print(f\"Dispersion hint: {dispersion_hint:.2f} nm/pixel\")\n",
    "    return dispersion_hint"
   ]
  },
  {
   "cell_type": "code",
   "execution_count": 24,
   "metadata": {},
   "outputs": [],
   "source": [
    "def combine(a, b):\n",
    "    \"\"\"\n",
    "    Combines two 1D arrays into a 2D array of all possible pairs.\n",
    "\n",
    "    Parameters:\n",
    "    a (numpy.ndarray): A 1D numpy array.\n",
    "    b (numpy.ndarray): A 1D numpy array.\n",
    "\n",
    "    Returns:\n",
    "    numpy.ndarray: A 2D numpy array where each row is a pair from the input arrays.\n",
    "    \"\"\"\n",
    "    return np.array(np.meshgrid(a[:, np.newaxis], b[np.newaxis, :])).T.reshape(-1, 2)"
   ]
  },
  {
   "cell_type": "code",
   "execution_count": 25,
   "metadata": {},
   "outputs": [],
   "source": [
    "is_sorted = lambda a: np.all(a[:-1] <= a[1:])"
   ]
  },
  {
   "cell_type": "code",
   "execution_count": null,
   "metadata": {},
   "outputs": [],
   "source": [
    "def find_wl_match(spl, wldb, _disp=None):\n",
    "    \"\"\"\n",
    "    Find spectral database offset for given peak results.\n",
    "    spl: spectral lines\n",
    "    wldb: wavelength database\n",
    "    _disp: dispersion hint\n",
    "    \"\"\"\n",
    "   \n",
    "    # convert peak database into numpy array\n",
    "    wldba = np.asarray(sorted(wldb))\n",
    "    \n",
    "    # delete lines from database that are closer than minimum resolution\n",
    "    # WLN_RES_FILTER_NM = 0\n",
    "    # wldba = np.delete(wldba, 1 + np.nonzero(np.abs(np.diff(wldba)) < WLN_RES_FILTER_NM)[0])\n",
    "    \n",
    "    # # calculate preliminary dispersion based on the closest (Ne) peak doublet\n",
    "    # # (which should be in the spectrum)\n",
    "    # if not _disp:\n",
    "    #     # _disp =1\n",
    "    #     _disp = np.nanmin(np.diff(wldba)) / np.nanmin(np.diff(spl))\n",
    "\n",
    "    # create a combined array of found peaks versus peak database\n",
    "    splma = combine(spl, wldba) # splma = spectral lines match array (every peak with every wavelength)\n",
    "    \n",
    "    # compare relative wavelength positions\n",
    "    splmd = np.full((len(spl), len(wldba)), np.nan)\n",
    "\n",
    "    \n",
    "    for i in range(len(spl)):\n",
    "        sel = splma[i::len(wldba)+1] # strictly increasing subarrays (but not all!!)\n",
    "        \n",
    "        if not is_sorted(sel[:, 1]):\n",
    "            sel = sel[:np.nanargmax(sel[:, 1]) + 1]        \n",
    "        \n",
    "        if len(sel) > 1:\n",
    "            sub = np.abs(\n",
    "                np.diff(_disp * sel[:, 0]) - np.diff(sel[:, 1])) \n",
    "            # difference between the sum of wavelengths and the sum of intensities \n",
    "            # already multiplied by theoretical dispersion\n",
    "            # both sel[:, 0] and sel[:, 1] are wavelengths [nm], why multiply by dispersion [nm]/[pixel]?\n",
    "            splmd[i, :len(sub)] = np.roll(sub, i)\n",
    "    \n",
    "    wl_oi = int(np.round(np.nanargmin([np.nanmin(\n",
    "        splmd[i::len(wldba)+1]) for i in range(len(wldba)) \n",
    "            if not np.all(np.isnan(splmd[i::len(wldba)+1]))]))) # index of minimal difference \n",
    "                                                                # with the theoretical dispersion\n",
    "    \n",
    "    # return adapted wavelength database (only the matched wavelengths)\n",
    "    return wldba[wl_oi:]"
   ]
  },
  {
   "cell_type": "code",
   "execution_count": null,
   "metadata": {},
   "outputs": [
    {
     "name": "stdout",
     "output_type": "stream",
     "text": [
      "Dispersion hint: 11.55 nm/pixel\n",
      "13 [534.92  535.516 535.542 535.802 536.001 536.042 536.223 537.231 537.498\n",
      " 538.325 540.056 541.265 541.856]\n"
     ]
    },
    {
     "data": {
      "text/plain": [
       "Text(0, 0.5, 'Neon wavelengths')"
      ]
     },
     "execution_count": 36,
     "metadata": {},
     "output_type": "execute_result"
    },
    {
     "data": {
      "image/png": "[encoded data removed]",
      "text/plain": [
       "<Figure size 432x288 with 1 Axes>"
      ]
     },
     "metadata": {
      "needs_background": "light"
     },
     "output_type": "display_data"
    }
   ],
   "source": [
    "_disp = get_dispersion_hint()\n",
    "neon_waveln = find_wl_match(spectral_lines, NEON_WAVELN, _disp)\n",
    "print(len(neon_waveln), neon_waveln)\n",
    "# plt.scatter(spectral_lines, neon_waveln, 'o-')\n",
    "# scatterplot\n",
    "for i in range(0, abs(len(neon_waveln)- len(spectral_lines))):\n",
    "    plt.scatter(spectral_lines, neon_waveln[0+i:len(spectral_lines)+i], color='r')\n",
    "    \n",
    "# add labels\n",
    "plt.xlabel('Spectral lines')\n",
    "plt.ylabel('Neon wavelengths')"
   ]
  }
 ],
 "metadata": {
  "kernelspec": {
   "display_name": "Python 3",
   "language": "python",
   "name": "python3"
  },
  "language_info": {
   "codemirror_mode": {
    "name": "ipython",
    "version": 3
   },
   "file_extension": ".py",
   "mimetype": "text/x-python",
   "name": "python",
   "nbconvert_exporter": "python",
   "pygments_lexer": "ipython3",
   "version": "3.8.8"
  }
 },
 "nbformat": 4,
 "nbformat_minor": 2
}
