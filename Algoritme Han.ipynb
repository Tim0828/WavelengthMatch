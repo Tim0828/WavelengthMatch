{
 "cells": [
  {
   "cell_type": "code",
   "execution_count": 1,
   "id": "f803b075",
   "metadata": {},
   "outputs": [],
   "source": [
    "%matplotlib inline\n",
    "import numpy as np\n",
    "\n",
    "from matplotlib import pyplot as plt"
   ]
  },
  {
   "cell_type": "code",
   "execution_count": 2,
   "id": "ffcfa4cc",
   "metadata": {},
   "outputs": [],
   "source": [
    "# wavelength database:\n",
    "\n",
    "NEON_WAVELN = {\n",
    "    532.640 : 20,\n",
    "    533.078 : 60,\n",
    "    533.331 : 0,\n",
    "    533.571 : 0, \n",
    "    534.109 : 100,\n",
    "    534.328 : 60,\n",
    "    534.920 : 0,\n",
    "    535.516 : 0,\n",
    "    535.542 : 0,\n",
    "    535.802 : 0,\n",
    "    536.001 : 0,\n",
    "    536.042 : 0,\n",
    "    536.223 : 0,\n",
    "    537.231 : 0,\n",
    "    537.498 : 0,\n",
    "    538.325 : 0,\n",
    "    540.056 : 200,\n",
    "    541.265 : 0,\n",
    "    541.856 : 0,\n",
    "}"
   ]
  },
  {
   "cell_type": "code",
   "execution_count": 3,
   "id": "3678b3ad",
   "metadata": {},
   "outputs": [],
   "source": [
    "# spectral fit output:\n",
    "\n",
    "spectral_lines = np.array([\n",
    "    22.181795919847822,\n",
    "    41.140395614525275,\n",
    "    144.26273501671918,\n",
    "    186.4979599536216,\n",
    "    292.1601184580567,\n",
    "    335.21179409990134,\n",
    "    377.61005873042376,\n",
    "    414.14821455025987,\n",
    "    445.4639986187941,\n",
    "])"
   ]
  },
  {
   "cell_type": "code",
   "execution_count": 4,
   "id": "b99a846d",
   "metadata": {},
   "outputs": [],
   "source": [
    "WLN_RES_FILTER_NM = 0.0 #0.2"
   ]
  },
  {
   "cell_type": "code",
   "execution_count": 5,
   "id": "acfe9840",
   "metadata": {},
   "outputs": [],
   "source": [
    "def combine(a, b):\n",
    "    return np.array(np.meshgrid(a[:, np.newaxis], b[np.newaxis, :])).T.reshape(-1, 2)"
   ]
  },
  {
   "cell_type": "code",
   "execution_count": 6,
   "id": "db2ecb85",
   "metadata": {},
   "outputs": [],
   "source": [
    "is_sorted = lambda a: np.all(a[:-1] <= a[1:])"
   ]
  },
  {
   "cell_type": "code",
   "execution_count": 7,
   "id": "a3f40802",
   "metadata": {},
   "outputs": [],
   "source": [
    "def get_dispersion_hint():\n",
    "    # Ref: Calculations by Jordy\n",
    "    \n",
    "    wavelength = 532 # nm\n",
    "    focal_length = 1000 # mm\n",
    "    groove_density = 1800 # gr/mm\n",
    "    d = 1 / groove_density # mm --> why not used??\n",
    "    m = 1 # diffraction_order --> one, so left out\n",
    "    \n",
    "    blaze_angle = 28.6 # deg\n",
    "    # Littrow configuration\n",
    "\n",
    "    linear_disp = wavelength / (2 * focal_length * np.tan(blaze_angle / 180 * np.pi)) # nm/mm--> focal length in mm, rest in nm??\n",
    "    \n",
    "    # pixel_size = 16 # um --> hmm.. should be nm??\n",
    "    pixel_size = 16000 #nm \n",
    "    fiber_optic_taper = 1.48 # units?\n",
    "    ccd_size = 512 # pixels\n",
    "    \n",
    "    # conversion to nm/pixel\n",
    "    dispersion_hint = linear_disp * pixel_size * fiber_optic_taper / 1000 # nm/pixel\n",
    "    spectral_range = dispersion_hint * ccd_size # nm  --> unused\n",
    "    print(f\"Dispersion hint: {dispersion_hint:.2f} nm/pixel\")\n",
    "    return dispersion_hint"
   ]
  },
  {
   "cell_type": "markdown",
   "id": "eb580c09",
   "metadata": {},
   "source": [
    " ramman spectrometer\n",
    "    litrov\n",
    "    blazing angle --> alpha = beta\n"
   ]
  },
  {
   "cell_type": "code",
   "execution_count": 8,
   "id": "f128d0b3",
   "metadata": {},
   "outputs": [],
   "source": [
    "# def get_dispersion_hint():\n",
    "#     # Constants\n",
    "#     wavelength = 532  # nm\n",
    "#     focal_length = 1000  # mm\n",
    "#     groove_density = 1800  # gr/mm\n",
    "#     diffraction_order = 1\n",
    "#     blaze_angle = 28.6  # deg\n",
    "    \n",
    "#     # Convert blaze angle to radians\n",
    "#     blaze_angle_rad = np.radians(blaze_angle)\n",
    "    \n",
    "#     # Grating period\n",
    "#     d = 1 / groove_density * 1e6  # nm\n",
    "    \n",
    "#     # General grating equation\n",
    "#     # d(sin(α) + sin(β)) = mλ\n",
    "#     # Assuming α (incident angle) = blaze_angle\n",
    "#     # Solve for β (diffraction angle)\n",
    "#     beta = np.arcsin(diffraction_order * wavelength / d - np.sin(blaze_angle_rad))\n",
    "    \n",
    "#     # Calculate angular dispersion\n",
    "#     angular_dispersion = diffraction_order / (d * np.cos(beta))  # rad/nm\n",
    "    \n",
    "#     # Convert to linear dispersion\n",
    "#     linear_disp = focal_length * angular_dispersion #* 1e6  # nm/mm\n",
    "    \n",
    "#     # Rest of the calculation remains the same\n",
    "#     pixel_size = 16  # um\n",
    "#     fiber_optic_taper = 1.48\n",
    "#     ccd_size = 512  # pixels\n",
    "    \n",
    "#     dispersion_hint = linear_disp * pixel_size * fiber_optic_taper / 1000  # nm/pixel\n",
    "#     # spectral_range = dispersion_hint * ccd_size  # nm\n",
    "#     print(f\"Dispersion hint: {dispersion_hint:.2f} nm/pixel\")\n",
    "#     return dispersion_hint\n"
   ]
  },
  {
   "cell_type": "code",
   "execution_count": 9,
   "id": "5c08d6c0",
   "metadata": {},
   "outputs": [],
   "source": [
    "def find_wl_match(spl, wldb, _disp=None):\n",
    "    \"\"\"\n",
    "    Find spectral database offset for given peak results.\n",
    "    spl: spectral lines\n",
    "    wldb: wavelength database\n",
    "    _disp: dispersion hint\n",
    "    \"\"\"\n",
    "   \n",
    "    # convert peak database into array\n",
    "    wldba = np.asarray(sorted(wldb))\n",
    "    \n",
    "    # delete lines from database that are closer than minimum resolution\n",
    "    wldba = np.delete(wldba, 1 + np.nonzero(np.abs(np.diff(wldba)) < WLN_RES_FILTER_NM)[0])\n",
    "    \n",
    "    # calculate preliminary dispersion based on the closest (Ne) peak doublet\n",
    "    # (which should be in the spectrum)\n",
    "    if not _disp:\n",
    "        # _disp =1\n",
    "        _disp = np.nanmin(np.diff(wldba)) / np.nanmin(np.diff(spl))\n",
    "\n",
    "    # create a combined array of found peaks versus peak database\n",
    "    splma = combine(spl, wldba)\n",
    "    \n",
    "    # compare relative wavelength positions\n",
    "    splmd = np.full((len(spl), len(wldba)), np.nan)\n",
    "    for i in range(len(spl)):\n",
    "        sel = splma[i::len(wldba)+1]\n",
    "        \n",
    "        if not is_sorted(sel[:, 1]):\n",
    "            sel = sel[:np.nanargmax(sel[:, 1]) + 1]        \n",
    "        \n",
    "        if len(sel) > 1:\n",
    "            sub = np.abs(\n",
    "                np.diff(_disp * sel[:, 0]) - np.diff(sel[:, 1]))\n",
    "            splmd[i, :len(sub)] = np.roll(sub, i)\n",
    "    \n",
    "    wl_oi = int(np.round(np.nanargmin([np.nanmin(\n",
    "        splmd[i::len(wldba)+1]) for i in range(len(wldba)) \n",
    "            if not np.all(np.isnan(splmd[i::len(wldba)+1]))])))\n",
    "    \n",
    "    # return adapted wavelength database\n",
    "    return wldba[wl_oi:]"
   ]
  },
  {
   "cell_type": "code",
   "execution_count": 10,
   "id": "6e56f081",
   "metadata": {},
   "outputs": [],
   "source": [
    "def remove_faulty_peaks(spl, wldb):\n",
    "    \"\"\"\n",
    "    Remove peak results that do not match the spectral database.\n",
    "    \"\"\"\n",
    "    _disp = get_dispersion_hint() # theoretical dispersion\n",
    "    # _disp = 0.8  \n",
    "    wlm = find_wl_match(spl, wldb, _disp=_disp)\n",
    "    for _ in range(max(len(spl), len(wldb))):\n",
    "        \n",
    "        # calculate dispersion test\n",
    "        dschk = np.diff(wlm[:len(spl)]) / np.diff(spl[:len(wlm)])\n",
    "        \n",
    "        if not dschk.any():\n",
    "            continue\n",
    "        \n",
    "        # (experimental) check to determine invalid peak results\n",
    "        ivchk = np.abs(dschk / _disp - 1) > 0.1\n",
    "        itchk = dschk / _disp - 1 < 0\n",
    "        \n",
    "        if not np.any(ivchk):\n",
    "            break # all peaks ok\n",
    "        \n",
    "        # get first faulty peak\n",
    "        fidx = 1 + ivchk.nonzero()[0][0]\n",
    "        \n",
    "        if itchk[fidx - 1]:\n",
    "            # invalidate wavelength db result\n",
    "            wlm = np.delete(wlm, fidx)\n",
    "        else:\n",
    "            # invalidate peak result\n",
    "            spl = np.delete(spl, fidx)\n",
    "\n",
    "        # re-calculate database match\n",
    "        wlm = find_wl_match(spl, wlm, _disp=_disp)\n",
    "    \n",
    "    # return matches\n",
    "    return spl[:len(wlm)], wlm[:len(spl)][~np.isnan(spl[:len(wlm)])]"
   ]
  },
  {
   "cell_type": "code",
   "execution_count": 11,
   "id": "a6a182cb",
   "metadata": {},
   "outputs": [
    {
     "name": "stdout",
     "output_type": "stream",
     "text": [
      "Dispersion hint: 11.55 nm/pixel\n"
     ]
    },
    {
     "ename": "ValueError",
     "evalue": "could not broadcast input array from shape (4,) into shape (1,)",
     "output_type": "error",
     "traceback": [
      "\u001b[1;31m---------------------------------------------------------------------------\u001b[0m",
      "\u001b[1;31mValueError\u001b[0m                                Traceback (most recent call last)",
      "\u001b[1;32m<ipython-input-11-ef0e73032dcc>\u001b[0m in \u001b[0;36m<module>\u001b[1;34m\u001b[0m\n\u001b[0;32m      1\u001b[0m \u001b[1;31m# secret sauce to match found peaks to known database\u001b[0m\u001b[1;33m\u001b[0m\u001b[1;33m\u001b[0m\u001b[1;33m\u001b[0m\u001b[0m\n\u001b[1;32m----> 2\u001b[1;33m \u001b[0mspectral_lines\u001b[0m\u001b[1;33m,\u001b[0m \u001b[0mneon_waveln\u001b[0m \u001b[1;33m=\u001b[0m \u001b[0mremove_faulty_peaks\u001b[0m\u001b[1;33m(\u001b[0m\u001b[0mspectral_lines\u001b[0m\u001b[1;33m,\u001b[0m \u001b[0mNEON_WAVELN\u001b[0m\u001b[1;33m)\u001b[0m\u001b[1;33m\u001b[0m\u001b[1;33m\u001b[0m\u001b[0m\n\u001b[0m\u001b[0;32m      3\u001b[0m \u001b[1;33m\u001b[0m\u001b[0m\n\u001b[0;32m      4\u001b[0m \u001b[1;31m# calculate dispersion\u001b[0m\u001b[1;33m\u001b[0m\u001b[1;33m\u001b[0m\u001b[1;33m\u001b[0m\u001b[0m\n\u001b[0;32m      5\u001b[0m \u001b[0mdispersion\u001b[0m \u001b[1;33m=\u001b[0m \u001b[0mnp\u001b[0m\u001b[1;33m.\u001b[0m\u001b[0mnanmean\u001b[0m\u001b[1;33m(\u001b[0m\u001b[0mnp\u001b[0m\u001b[1;33m.\u001b[0m\u001b[0mdiff\u001b[0m\u001b[1;33m(\u001b[0m\u001b[0mneon_waveln\u001b[0m\u001b[1;33m)\u001b[0m\u001b[1;33m)\u001b[0m \u001b[1;33m/\u001b[0m \u001b[0mnp\u001b[0m\u001b[1;33m.\u001b[0m\u001b[0mnanmean\u001b[0m\u001b[1;33m(\u001b[0m\u001b[0mnp\u001b[0m\u001b[1;33m.\u001b[0m\u001b[0mdiff\u001b[0m\u001b[1;33m(\u001b[0m\u001b[0mspectral_lines\u001b[0m\u001b[1;33m)\u001b[0m\u001b[1;33m)\u001b[0m \u001b[1;31m# nm/px\u001b[0m\u001b[1;33m\u001b[0m\u001b[1;33m\u001b[0m\u001b[0m\n",
      "\u001b[1;32m<ipython-input-10-c42c01a976d8>\u001b[0m in \u001b[0;36mremove_faulty_peaks\u001b[1;34m(spl, wldb)\u001b[0m\n\u001b[0;32m     32\u001b[0m \u001b[1;33m\u001b[0m\u001b[0m\n\u001b[0;32m     33\u001b[0m         \u001b[1;31m# re-calculate database match\u001b[0m\u001b[1;33m\u001b[0m\u001b[1;33m\u001b[0m\u001b[1;33m\u001b[0m\u001b[0m\n\u001b[1;32m---> 34\u001b[1;33m         \u001b[0mwlm\u001b[0m \u001b[1;33m=\u001b[0m \u001b[0mfind_wl_match\u001b[0m\u001b[1;33m(\u001b[0m\u001b[0mspl\u001b[0m\u001b[1;33m,\u001b[0m \u001b[0mwlm\u001b[0m\u001b[1;33m,\u001b[0m \u001b[0m_disp\u001b[0m\u001b[1;33m=\u001b[0m\u001b[0m_disp\u001b[0m\u001b[1;33m)\u001b[0m\u001b[1;33m\u001b[0m\u001b[1;33m\u001b[0m\u001b[0m\n\u001b[0m\u001b[0;32m     35\u001b[0m \u001b[1;33m\u001b[0m\u001b[0m\n\u001b[0;32m     36\u001b[0m     \u001b[1;31m# return matches\u001b[0m\u001b[1;33m\u001b[0m\u001b[1;33m\u001b[0m\u001b[1;33m\u001b[0m\u001b[0m\n",
      "\u001b[1;32m<ipython-input-9-2651d2665e7c>\u001b[0m in \u001b[0;36mfind_wl_match\u001b[1;34m(spl, wldb, _disp)\u001b[0m\n\u001b[0;32m     33\u001b[0m             sub = np.abs(\n\u001b[0;32m     34\u001b[0m                 np.diff(_disp * sel[:, 0]) - np.diff(sel[:, 1]))\n\u001b[1;32m---> 35\u001b[1;33m             \u001b[0msplmd\u001b[0m\u001b[1;33m[\u001b[0m\u001b[0mi\u001b[0m\u001b[1;33m,\u001b[0m \u001b[1;33m:\u001b[0m\u001b[0mlen\u001b[0m\u001b[1;33m(\u001b[0m\u001b[0msub\u001b[0m\u001b[1;33m)\u001b[0m\u001b[1;33m]\u001b[0m \u001b[1;33m=\u001b[0m \u001b[0mnp\u001b[0m\u001b[1;33m.\u001b[0m\u001b[0mroll\u001b[0m\u001b[1;33m(\u001b[0m\u001b[0msub\u001b[0m\u001b[1;33m,\u001b[0m \u001b[0mi\u001b[0m\u001b[1;33m)\u001b[0m\u001b[1;33m\u001b[0m\u001b[1;33m\u001b[0m\u001b[0m\n\u001b[0m\u001b[0;32m     36\u001b[0m \u001b[1;33m\u001b[0m\u001b[0m\n\u001b[0;32m     37\u001b[0m     wl_oi = int(np.round(np.nanargmin([np.nanmin(\n",
      "\u001b[1;31mValueError\u001b[0m: could not broadcast input array from shape (4,) into shape (1,)"
     ]
    }
   ],
   "source": [
    "# secret sauce to match found peaks to known database\n",
    "spectral_lines, neon_waveln = remove_faulty_peaks(spectral_lines, NEON_WAVELN)\n",
    "\n",
    "# calculate dispersion\n",
    "dispersion = np.nanmean(np.diff(neon_waveln)) / np.nanmean(np.diff(spectral_lines)) # nm/px\n",
    "print(f\"Dispersion: {dispersion:.10f} nm/px\")"
   ]
  },
  {
   "cell_type": "code",
   "execution_count": null,
   "id": "6651a488",
   "metadata": {},
   "outputs": [
    {
     "data": {
      "image/png": "[encoded data removed]",
      "text/plain": [
       "<Figure size 432x288 with 1 Axes>"
      ]
     },
     "metadata": {
      "needs_background": "light"
     },
     "output_type": "display_data"
    }
   ],
   "source": [
    "plt.plot(spectral_lines, neon_waveln, 'o-')"
   ]
  }
 ],
 "metadata": {
  "@webio": {
   "lastCommId": null,
   "lastKernelId": null
  },
  "kernelspec": {
   "display_name": "Python 3",
   "language": "python",
   "name": "python3"
  }
 },
 "nbformat": 4,
 "nbformat_minor": 5
}
